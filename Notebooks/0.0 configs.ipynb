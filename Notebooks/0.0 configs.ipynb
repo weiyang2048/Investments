{
 "cells": [
  {
   "cell_type": "markdown",
   "metadata": {},
   "source": [
    "**Table of contents**<a id='toc0_'></a>    \n",
    "- [OmegaConf](#toc1_)    \n",
    "- [Hydra](#toc2_)    \n",
    "\n",
    "<!-- vscode-jupyter-toc-config\n",
    "\tnumbering=false\n",
    "\tanchor=true\n",
    "\tflat=false\n",
    "\tminLevel=1\n",
    "\tmaxLevel=6\n",
    "\t/vscode-jupyter-toc-config -->\n",
    "<!-- THIS CELL WILL BE REPLACED ON TOC UPDATE. DO NOT WRITE YOUR TEXT IN THIS CELL -->"
   ]
  },
  {
   "cell_type": "code",
   "execution_count": null,
   "metadata": {},
   "outputs": [],
   "source": [
    "# To enable auto-reloading of modules in Jupyter Notebook\n",
    "%load_ext autoreload\n",
    "%autoreload \n",
    "import hydra\n",
    "from omegaconf import OmegaConf\n",
    "from pyhere import here\n",
    "\n",
    "from src.yaml import register_resolvers\n"
   ]
  },
  {
   "cell_type": "markdown",
   "metadata": {},
   "source": [
    "# <a id='toc1_'></a>[OmegaConf](#toc0_)"
   ]
  },
  {
   "cell_type": "code",
   "execution_count": null,
   "metadata": {},
   "outputs": [],
   "source": [
    "print(OmegaConf.has_resolver(\"union\"))\n",
    "register_resolvers()\n",
    "print(OmegaConf.has_resolver(\"union\"))"
   ]
  },
  {
   "cell_type": "code",
   "execution_count": null,
   "metadata": {},
   "outputs": [],
   "source": [
    "conf = OmegaConf.load(here(\"conf/main.yaml\"))\n",
    "OmegaConf.resolve(conf)\n",
    "\n",
    "conf"
   ]
  },
  {
   "cell_type": "markdown",
   "metadata": {},
   "source": [
    "# <a id='toc2_'></a>[Hydra](#toc0_)"
   ]
  },
  {
   "cell_type": "code",
   "execution_count": null,
   "metadata": {},
   "outputs": [],
   "source": [
    "if hydra.core.global_hydra.GlobalHydra().is_initialized():\n",
    "    hydra.core.global_hydra.GlobalHydra.instance().clear()\n",
    "\n",
    "with hydra.initialize(version_base=None, config_path=\"../conf\"):\n",
    "    config = hydra.compose(\n",
    "        config_name=\"main\",\n",
    "        overrides=[\"+tickers=etf\"],\n",
    "    )\n",
    "\n",
    "config"
   ]
  }
 ],
 "metadata": {
  "kernelspec": {
   "display_name": ".venv",
   "language": "python",
   "name": "python3"
  },
  "language_info": {
   "codemirror_mode": {
    "name": "ipython",
    "version": 3
   },
   "file_extension": ".py",
   "mimetype": "text/x-python",
   "name": "python",
   "nbconvert_exporter": "python",
   "pygments_lexer": "ipython3",
   "version": "3.12.10"
  }
 },
 "nbformat": 4,
 "nbformat_minor": 2
}
